{
 "cells": [
  {
   "cell_type": "code",
   "execution_count": 1,
   "id": "5c68a8e2",
   "metadata": {
    "_cell_guid": "b1076dfc-b9ad-4769-8c92-a6c4dae69d19",
    "_uuid": "8f2839f25d086af736a60e9eeb907d3b93b6e0e5",
    "execution": {
     "iopub.execute_input": "2024-07-05T09:08:25.672755Z",
     "iopub.status.busy": "2024-07-05T09:08:25.672405Z",
     "iopub.status.idle": "2024-07-05T09:08:29.364917Z",
     "shell.execute_reply": "2024-07-05T09:08:29.363926Z"
    },
    "papermill": {
     "duration": 3.703539,
     "end_time": "2024-07-05T09:08:29.367242",
     "exception": false,
     "start_time": "2024-07-05T09:08:25.663703",
     "status": "completed"
    },
    "tags": []
   },
   "outputs": [],
   "source": [
    "# Libraries\n",
    "import numpy as np\n",
    "import pandas as pd\n",
    "import torch\n",
    "import torch.nn as nn\n",
    "import torch.nn.functional as F\n",
    "import matplotlib.pyplot as plt\n",
    "import plotly.graph_objects as go\n",
    "from torchvision import transforms as T\n",
    "from torch.utils.data import Dataset\n",
    "from torch.utils.data import DataLoader, random_split\n",
    "from torch import optim\n",
    "from tqdm.notebook import tqdm as tqdm"
   ]
  },
  {
   "cell_type": "code",
   "execution_count": 2,
   "id": "9e11ee19",
   "metadata": {
    "execution": {
     "iopub.execute_input": "2024-07-05T09:08:29.378643Z",
     "iopub.status.busy": "2024-07-05T09:08:29.378176Z",
     "iopub.status.idle": "2024-07-05T09:08:29.457340Z",
     "shell.execute_reply": "2024-07-05T09:08:29.456373Z"
    },
    "papermill": {
     "duration": 0.08697,
     "end_time": "2024-07-05T09:08:29.459295",
     "exception": false,
     "start_time": "2024-07-05T09:08:29.372325",
     "status": "completed"
    },
    "tags": []
   },
   "outputs": [],
   "source": [
    "# Device\n",
    "device = torch.device(\"cuda\" if torch.cuda.is_available() else \"cpu\")"
   ]
  },
  {
   "cell_type": "code",
   "execution_count": 3,
   "id": "e64c4f19",
   "metadata": {
    "execution": {
     "iopub.execute_input": "2024-07-05T09:08:29.470530Z",
     "iopub.status.busy": "2024-07-05T09:08:29.470214Z",
     "iopub.status.idle": "2024-07-05T09:08:29.479295Z",
     "shell.execute_reply": "2024-07-05T09:08:29.478531Z"
    },
    "papermill": {
     "duration": 0.016901,
     "end_time": "2024-07-05T09:08:29.481194",
     "exception": false,
     "start_time": "2024-07-05T09:08:29.464293",
     "status": "completed"
    },
    "tags": []
   },
   "outputs": [],
   "source": [
    "# Dataset class for MNIST\n",
    "class MNIST_Dataset(Dataset):\n",
    "    \n",
    "    def __init__(self, train=True, transform=T.ToTensor()):\n",
    "        if train:\n",
    "            self.data = pd.read_csv('/kaggle/input/mnist-in-csv/mnist_train.csv')\n",
    "            self.y = self.data['label']\n",
    "            self.data = self.data.drop(['label'], axis=1)\n",
    "        else:\n",
    "            self.data = pd.read_csv('/kaggle/input/mnist-in-csv/mnist_test.csv')\n",
    "            self.y = self.data['label'] #torch.tensor(self.data['label'].values).to(device)\n",
    "            self.data = self.data.drop(['label'], axis=1) #torch.tensor(self.data.drop(['label'], axis=1).values).to(device)\n",
    "        self.transform = transform\n",
    "\n",
    "    def __len__(self):\n",
    "        return len(self.data)\n",
    "\n",
    "    def __getitem__(self, index):\n",
    "        img = np.array(self.data.iloc[index], dtype=np.float32) # float32 in order to be converted to float with ToTensor() instead of double\n",
    "        img = img.reshape(28, 28, 1)\n",
    "        img = img / 255 # Normalization\n",
    "        if self.transform:\n",
    "            img = self.transform(img)\n",
    "            \n",
    "        if self.y is not None:\n",
    "            return (img, self.y[index]) # (X, Y)\n",
    "        else:\n",
    "            return img # Only X"
   ]
  },
  {
   "cell_type": "code",
   "execution_count": 4,
   "id": "d9cde3a3",
   "metadata": {
    "execution": {
     "iopub.execute_input": "2024-07-05T09:08:29.491705Z",
     "iopub.status.busy": "2024-07-05T09:08:29.491430Z",
     "iopub.status.idle": "2024-07-05T09:08:35.906787Z",
     "shell.execute_reply": "2024-07-05T09:08:35.905799Z"
    },
    "papermill": {
     "duration": 6.423158,
     "end_time": "2024-07-05T09:08:35.909084",
     "exception": false,
     "start_time": "2024-07-05T09:08:29.485926",
     "status": "completed"
    },
    "tags": []
   },
   "outputs": [
    {
     "name": "stdout",
     "output_type": "stream",
     "text": [
      "Total nb of train imgs: 60000\n",
      "Total nb of test imgs: 10000\n"
     ]
    }
   ],
   "source": [
    "# Splitting X_train into traning and validation sets\n",
    "train_dataset = MNIST_Dataset(train=True)\n",
    "# val_split = 2e-1\n",
    "# len_val_set = int(len(full_train_set)*val_split)\n",
    "# len_train_set = len(full_train_set) - len_val_set \n",
    "# train_dataset, val_dataset = random_split(full_train_set, (len_train_set, len_val_set))\n",
    "\n",
    "# Test set\n",
    "test_dataset = MNIST_Dataset(train=False)\n",
    "\n",
    "# Details\n",
    "print(f'Total nb of train imgs: {len(train_dataset)}')\n",
    "# print(f\"Total nb of validation imgs: {len(val_dataset)}\")\n",
    "print(f\"Total nb of test imgs: {len(test_dataset)}\")"
   ]
  },
  {
   "cell_type": "code",
   "execution_count": 5,
   "id": "7914213f",
   "metadata": {
    "execution": {
     "iopub.execute_input": "2024-07-05T09:08:35.921841Z",
     "iopub.status.busy": "2024-07-05T09:08:35.921517Z",
     "iopub.status.idle": "2024-07-05T09:08:36.211652Z",
     "shell.execute_reply": "2024-07-05T09:08:36.210670Z"
    },
    "papermill": {
     "duration": 0.298886,
     "end_time": "2024-07-05T09:08:36.213848",
     "exception": false,
     "start_time": "2024-07-05T09:08:35.914962",
     "status": "completed"
    },
    "tags": []
   },
   "outputs": [
    {
     "data": {
      "image/png": "[encoded data removed]",
      "text/plain": [
       "<Figure size 800x400 with 1 Axes>"
      ]
     },
     "metadata": {},
     "output_type": "display_data"
    }
   ],
   "source": [
    "# Showing an img from train set at random\n",
    "fig, ax = plt.subplots(1, 1, figsize=(8,4))\n",
    "idx = np.random.choice(np.arange(len(train_dataset)))\n",
    "img, label = train_dataset[idx]\n",
    "ax.set(title=f'Index {idx}: Label {label}')\n",
    "ax.imshow(img.squeeze(),cmap = 'gray');"
   ]
  },
  {
   "cell_type": "code",
   "execution_count": 6,
   "id": "c50998fa",
   "metadata": {
    "execution": {
     "iopub.execute_input": "2024-07-05T09:08:36.226027Z",
     "iopub.status.busy": "2024-07-05T09:08:36.225716Z",
     "iopub.status.idle": "2024-07-05T09:08:39.135487Z",
     "shell.execute_reply": "2024-07-05T09:08:39.134425Z"
    },
    "papermill": {
     "duration": 2.91822,
     "end_time": "2024-07-05T09:08:39.137518",
     "exception": false,
     "start_time": "2024-07-05T09:08:36.219298",
     "status": "completed"
    },
    "tags": []
   },
   "outputs": [
    {
     "data": {
      "text/plain": [
       "CNN(\n",
       "  (conv1): Conv2d(1, 10, kernel_size=(5, 5), stride=(1, 1))\n",
       "  (conv2): Conv2d(10, 20, kernel_size=(5, 5), stride=(1, 1))\n",
       "  (conv2_drop): Dropout2d(p=0.2, inplace=False)\n",
       "  (maxpool2d): MaxPool2d(kernel_size=2, stride=2, padding=0, dilation=1, ceil_mode=False)\n",
       "  (fc1): Linear(in_features=320, out_features=50, bias=True)\n",
       "  (fc2): Linear(in_features=50, out_features=10, bias=True)\n",
       ")"
      ]
     },
     "execution_count": 6,
     "metadata": {},
     "output_type": "execute_result"
    }
   ],
   "source": [
    "# Our CNN\n",
    "class CNN(nn.Module):\n",
    "    \n",
    "    def __init__(self):\n",
    "        super(CNN, self).__init__()\n",
    "        self.conv1 = nn.Conv2d(1, 10, kernel_size=5)\n",
    "        self.conv2 = nn.Conv2d(10, 20, kernel_size=5)\n",
    "        self.conv2_drop = nn.Dropout2d(p=0.2)\n",
    "        self.maxpool2d = nn.MaxPool2d(kernel_size=2)\n",
    "        self.fc1 = nn.Linear(320, 50)\n",
    "        self.fc2 = nn.Linear(50, 10)\n",
    "        \n",
    "    def forward(self, x):\n",
    "        x = F.relu(self.maxpool2d(self.conv1(x)))\n",
    "        x = F.relu(self.maxpool2d(self.conv2_drop(self.conv2(x))))\n",
    "        x = x.view(-1, 320)\n",
    "        x = F.relu(self.fc1(x))\n",
    "        x = F.dropout(x, p=0.2, training=self.training)\n",
    "        x = self.fc2(x)\n",
    "        \n",
    "        return F.log_softmax(x, dim=1)\n",
    "    \n",
    "# CNN instance\n",
    "cnn = CNN()\n",
    "cnn.to(device)\n",
    "cnn"
   ]
  },
  {
   "cell_type": "code",
   "execution_count": 7,
   "id": "0416237f",
   "metadata": {
    "execution": {
     "iopub.execute_input": "2024-07-05T09:08:39.149539Z",
     "iopub.status.busy": "2024-07-05T09:08:39.149240Z",
     "iopub.status.idle": "2024-07-05T09:08:51.538802Z",
     "shell.execute_reply": "2024-07-05T09:08:51.537718Z"
    },
    "papermill": {
     "duration": 12.398257,
     "end_time": "2024-07-05T09:08:51.541203",
     "exception": false,
     "start_time": "2024-07-05T09:08:39.142946",
     "status": "completed"
    },
    "tags": []
   },
   "outputs": [],
   "source": [
    "%%capture\n",
    "!pip install torchsummary"
   ]
  },
  {
   "cell_type": "code",
   "execution_count": 8,
   "id": "7e679027",
   "metadata": {
    "execution": {
     "iopub.execute_input": "2024-07-05T09:08:51.553422Z",
     "iopub.status.busy": "2024-07-05T09:08:51.553086Z",
     "iopub.status.idle": "2024-07-05T09:08:56.446062Z",
     "shell.execute_reply": "2024-07-05T09:08:56.445185Z"
    },
    "papermill": {
     "duration": 4.902226,
     "end_time": "2024-07-05T09:08:56.448901",
     "exception": false,
     "start_time": "2024-07-05T09:08:51.546675",
     "status": "completed"
    },
    "tags": []
   },
   "outputs": [
    {
     "name": "stdout",
     "output_type": "stream",
     "text": [
      "----------------------------------------------------------------\n",
      "        Layer (type)               Output Shape         Param #\n",
      "================================================================\n",
      "            Conv2d-1           [-1, 10, 24, 24]             260\n",
      "         MaxPool2d-2           [-1, 10, 12, 12]               0\n",
      "            Conv2d-3             [-1, 20, 8, 8]           5,020\n",
      "         Dropout2d-4             [-1, 20, 8, 8]               0\n",
      "         MaxPool2d-5             [-1, 20, 4, 4]               0\n",
      "            Linear-6                   [-1, 50]          16,050\n",
      "            Linear-7                   [-1, 10]             510\n",
      "================================================================\n",
      "Total params: 21,840\n",
      "Trainable params: 21,840\n",
      "Non-trainable params: 0\n",
      "----------------------------------------------------------------\n",
      "Input size (MB): 0.00\n",
      "Forward/backward pass size (MB): 0.08\n",
      "Params size (MB): 0.08\n",
      "Estimated Total Size (MB): 0.16\n",
      "----------------------------------------------------------------\n"
     ]
    }
   ],
   "source": [
    "from torchsummary import summary\n",
    "summary(cnn, input_size=(1, 28, 28))"
   ]
  },
  {
   "cell_type": "markdown",
   "id": "2f2a61f3",
   "metadata": {
    "papermill": {
     "duration": 0.005085,
     "end_time": "2024-07-05T09:08:56.460359",
     "exception": false,
     "start_time": "2024-07-05T09:08:56.455274",
     "status": "completed"
    },
    "tags": []
   },
   "source": [
    "## Data loader\n",
    "***"
   ]
  },
  {
   "cell_type": "code",
   "execution_count": 9,
   "id": "b0ca81d8",
   "metadata": {
    "execution": {
     "iopub.execute_input": "2024-07-05T09:08:56.472350Z",
     "iopub.status.busy": "2024-07-05T09:08:56.471656Z",
     "iopub.status.idle": "2024-07-05T09:08:56.497050Z",
     "shell.execute_reply": "2024-07-05T09:08:56.495934Z"
    },
    "papermill": {
     "duration": 0.033463,
     "end_time": "2024-07-05T09:08:56.499017",
     "exception": false,
     "start_time": "2024-07-05T09:08:56.465554",
     "status": "completed"
    },
    "tags": []
   },
   "outputs": [
    {
     "name": "stdout",
     "output_type": "stream",
     "text": [
      "Shape of loading one batch: torch.Size([64, 1, 28, 28])\n",
      "Total nb of batches created in Train loader: 938\n"
     ]
    }
   ],
   "source": [
    "# Creating batches generator\n",
    "batch_size = 64\n",
    "train_loader = DataLoader(train_dataset, batch_size=batch_size, shuffle=True)\n",
    "# val_loader = DataLoader(val_dataset, batch_size=batch_size, shuffle=True)\n",
    "\n",
    "# First Batch\n",
    "dataiter = iter(train_loader)\n",
    "imgs, labels = next(dataiter)\n",
    "\n",
    "print('Shape of loading one batch: {}'.format(imgs.shape))\n",
    "print('Total nb of batches created in Train loader: {}'.format(len(train_loader)))\n",
    "# print('Total nb of batches created in Valid loader: {}'.format(len(val_loader)))"
   ]
  },
  {
   "cell_type": "code",
   "execution_count": 10,
   "id": "4ca3612a",
   "metadata": {
    "execution": {
     "iopub.execute_input": "2024-07-05T09:08:56.511059Z",
     "iopub.status.busy": "2024-07-05T09:08:56.510798Z",
     "iopub.status.idle": "2024-07-05T09:08:56.515476Z",
     "shell.execute_reply": "2024-07-05T09:08:56.514684Z"
    },
    "papermill": {
     "duration": 0.013037,
     "end_time": "2024-07-05T09:08:56.517462",
     "exception": false,
     "start_time": "2024-07-05T09:08:56.504425",
     "status": "completed"
    },
    "tags": []
   },
   "outputs": [],
   "source": [
    "# Optim parameters\n",
    "criterion = nn.CrossEntropyLoss()\n",
    "# log_softmax in output activation + nn.NLLLoss() =  nn.CrossEntropyLoss() !\n",
    "optimizer = optim.AdamW(cnn.parameters(), lr=1e-2)"
   ]
  },
  {
   "cell_type": "markdown",
   "id": "41a3a430",
   "metadata": {
    "papermill": {
     "duration": 0.005058,
     "end_time": "2024-07-05T09:08:56.527841",
     "exception": false,
     "start_time": "2024-07-05T09:08:56.522783",
     "status": "completed"
    },
    "tags": []
   },
   "source": [
    "## Training and evalutation\n",
    "***"
   ]
  },
  {
   "cell_type": "code",
   "execution_count": 11,
   "id": "05954a9d",
   "metadata": {
    "execution": {
     "iopub.execute_input": "2024-07-05T09:08:56.539571Z",
     "iopub.status.busy": "2024-07-05T09:08:56.539297Z",
     "iopub.status.idle": "2024-07-05T09:08:56.544170Z",
     "shell.execute_reply": "2024-07-05T09:08:56.543323Z"
    },
    "papermill": {
     "duration": 0.012867,
     "end_time": "2024-07-05T09:08:56.546017",
     "exception": false,
     "start_time": "2024-07-05T09:08:56.533150",
     "status": "completed"
    },
    "tags": []
   },
   "outputs": [],
   "source": [
    "# Function used in order to compute the accuracy for each batch\n",
    "def multiclass_accuracy(y_pred, y_true):\n",
    "    top_pred, y_pred_class = y_pred.topk(1, dim = 1)\n",
    "    equals = (y_pred_class == y_true.view(*y_pred_class.shape))\n",
    "    return torch.mean(equals.type(torch.FloatTensor))"
   ]
  },
  {
   "cell_type": "code",
   "execution_count": 12,
   "id": "e637acaf",
   "metadata": {
    "execution": {
     "iopub.execute_input": "2024-07-05T09:08:56.558785Z",
     "iopub.status.busy": "2024-07-05T09:08:56.558512Z",
     "iopub.status.idle": "2024-07-05T09:10:57.179934Z",
     "shell.execute_reply": "2024-07-05T09:10:57.179164Z"
    },
    "papermill": {
     "duration": 120.630422,
     "end_time": "2024-07-05T09:10:57.181961",
     "exception": false,
     "start_time": "2024-07-05T09:08:56.551539",
     "status": "completed"
    },
    "tags": []
   },
   "outputs": [
    {
     "data": {
      "application/vnd.jupyter.widget-view+json": {
       "model_id": "2e513512c4374786afcb3defeedfedc4",
       "version_major": 2,
       "version_minor": 0
      },
      "text/plain": [
       "Epochs:   0%|          | 0/15 [00:00<?, ?it/s]"
      ]
     },
     "metadata": {},
     "output_type": "display_data"
    }
   ],
   "source": [
    "# Training loop\n",
    "\n",
    "# Number of epochs\n",
    "epochs = 15\n",
    "\n",
    "train_losses = []\n",
    "train_accs = []\n",
    "val_losses = []\n",
    "val_accs = []\n",
    "\n",
    "for i in tqdm(range(epochs), 'Epochs'):\n",
    "\n",
    "    train_loss = 0.\n",
    "    train_acc = 0.\n",
    "    val_loss = 0.\n",
    "    val_acc = 0.\n",
    "\n",
    "    # Train on each batch\n",
    "    cnn.train()\n",
    "    for X_batch, label_batch in train_loader:\n",
    "        X_batch, label_batch = X_batch.to(device), label_batch.to(device)\n",
    "        logpreds = cnn(X_batch)\n",
    "\n",
    "        loss = criterion(logpreds, label_batch)\n",
    "        optimizer.zero_grad()\n",
    "        loss.backward() # dw, db\n",
    "        optimizer.step() # w = w - lr*dw\n",
    "        train_loss += loss.item()\n",
    "\n",
    "        preds = torch.exp(logpreds)\n",
    "        train_acc += multiclass_accuracy(preds, label_batch)\n",
    "\n",
    "    # Evaluation for each batch\n",
    "#     cnn.eval() # Dropout, Batch Norm\n",
    "#     for X_batch, label_batch in val_loader:\n",
    "#         X_batch, label_batch = X_batch.to(device), label_batch.to(device)\n",
    "#         logpreds = cnn(X_batch)\n",
    "\n",
    "#         loss = criterion(logpreds, label_batch)\n",
    "#         val_loss += loss.item()\n",
    "\n",
    "#         preds = torch.exp(logpreds)\n",
    "#         val_acc += multiclass_accuracy(preds, label_batch)\n",
    "\n",
    "    # Aggregate the loss for the current epoch\n",
    "    avg_train_loss = train_loss/len(train_loader)\n",
    "    avg_train_acc = train_acc/len(train_loader)\n",
    "#     avg_val_loss = val_loss/len(val_loader)\n",
    "#     avg_val_acc = val_acc/len(val_loader)\n",
    "\n",
    "    train_losses.append(avg_train_loss)\n",
    "    train_accs.append(avg_train_acc)\n",
    "#     val_losses.append(avg_val_loss)\n",
    "#     val_accs.append(avg_val_acc)"
   ]
  },
  {
   "cell_type": "code",
   "execution_count": 13,
   "id": "975f8a23",
   "metadata": {
    "execution": {
     "iopub.execute_input": "2024-07-05T09:10:57.199992Z",
     "iopub.status.busy": "2024-07-05T09:10:57.198917Z",
     "iopub.status.idle": "2024-07-05T09:10:59.369371Z",
     "shell.execute_reply": "2024-07-05T09:10:59.368445Z"
    },
    "papermill": {
     "duration": 2.181425,
     "end_time": "2024-07-05T09:10:59.371461",
     "exception": false,
     "start_time": "2024-07-05T09:10:57.190036",
     "status": "completed"
    },
    "tags": []
   },
   "outputs": [
    {
     "data": {
      "application/vnd.jupyter.widget-view+json": {
       "model_id": "851c6ef706fe438ca346875b3aa2e06b",
       "version_major": 2,
       "version_minor": 0
      },
      "text/plain": [
       "  0%|          | 0/1 [00:00<?, ?it/s]"
      ]
     },
     "metadata": {},
     "output_type": "display_data"
    },
    {
     "name": "stdout",
     "output_type": "stream",
     "text": [
      "0    7\n",
      "1    2\n",
      "2    1\n",
      "3    0\n",
      "4    4\n",
      "5    1\n",
      "6    4\n",
      "7    9\n",
      "8    5\n",
      "9    9\n",
      "Name: label, dtype: int64\n",
      "[[7], [2], [1], [0], [4], [1], [4], [9], [5], [9]]\n",
      "[7, 2, 1, 0, 4, 1, 4, 9, 5, 9]\n"
     ]
    },
    {
     "name": "stderr",
     "output_type": "stream",
     "text": [
      "/opt/conda/lib/python3.10/site-packages/scipy/__init__.py:146: UserWarning: A NumPy version >=1.16.5 and <1.23.0 is required for this version of SciPy (detected version 1.23.5\n",
      "  warnings.warn(f\"A NumPy version >={np_minversion} and <{np_maxversion}\"\n"
     ]
    },
    {
     "name": "stdout",
     "output_type": "stream",
     "text": [
      "f1:  0.9809415971501025\n",
      "precision:  0.980821056748322\n",
      "recall:  0.9811354179297508\n"
     ]
    },
    {
     "data": {
      "text/plain": [
       "array([[ 963,    0,    1,    0,    0,    1,    6,    0,    4,    1],\n",
       "       [   1, 1130,    8,    0,    0,    1,    2,    5,    1,    2],\n",
       "       [   3,    1, 1012,    1,    1,    0,    1,    9,    7,    2],\n",
       "       [   0,    1,    6, 1003,    0,    7,    0,    2,    7,    1],\n",
       "       [   2,    0,    0,    0,  951,    0,    4,    0,    3,    5],\n",
       "       [   0,    0,    0,    3,    0,  880,    2,    2,    3,    7],\n",
       "       [   7,    1,    0,    0,    1,    1,  941,    0,    1,    0],\n",
       "       [   0,    1,    5,    2,    0,    0,    0, 1005,    1,    5],\n",
       "       [   2,    1,    0,    1,    1,    1,    2,    0,  943,    4],\n",
       "       [   2,    0,    0,    0,   28,    1,    0,    5,    4,  982]])"
      ]
     },
     "execution_count": 13,
     "metadata": {},
     "output_type": "execute_result"
    }
   ],
   "source": [
    "# Test set predictions\n",
    "cnn.eval() # Dropout, Batch Norm\n",
    "# test = next(iter(DataLoader(test_dataset, batch_size=len(test_dataset), shuffle=False)))\n",
    "# print(test[0],test[1])\n",
    "# logpreds = cnn(test[0].to(device))\n",
    "# preds = torch.exp(logpreds) # Probabilities \n",
    "# _, y_pred = preds.topk(1, dim = 1)\n",
    "# print(y_pred)\n",
    "# y_pred = pd.DataFrame({'ImageId': np.arange(1, len(test_dataset)+1), 'Label': y_pred.cpu().numpy().squeeze()})\n",
    "# y_pred.to_csv('submission.csv', index=False)\n",
    "\n",
    "testloader = DataLoader(test_dataset, batch_size=len(test_dataset), shuffle=False)\n",
    "pred = []\n",
    "for data in tqdm(testloader):\n",
    "    logpreds = cnn(data[0].to(device))\n",
    "    preds = torch.exp(logpreds) # Probabilities \n",
    "    _, y_pred = preds.topk(1, dim = 1)\n",
    "    pred.extend(y_pred)\n",
    "# print(pred.shape)\n",
    "#     print(y_pred)\n",
    "print(test_dataset.y[0:10])\n",
    "print(list(y_pred[0:10].tolist()))\n",
    "pred = [i[0] for i in y_pred.tolist()]\n",
    "print(pred[0:10])\n",
    "\n",
    "from sklearn.metrics import f1_score, precision_score, recall_score, confusion_matrix\n",
    "import seaborn as sns\n",
    "\n",
    "print('f1: ', f1_score(pred, test_dataset.y, average='macro'))\n",
    "print('precision: ', precision_score(pred, test_dataset.y, average='macro'))\n",
    "print('recall: ', recall_score(pred, test_dataset.y, average='macro'))\n",
    "cf_matrix = confusion_matrix(pred, test_dataset.y)\n",
    "cf_matrix"
   ]
  },
  {
   "cell_type": "code",
   "execution_count": null,
   "id": "03d00dc5",
   "metadata": {
    "papermill": {
     "duration": 0.006574,
     "end_time": "2024-07-05T09:10:59.384716",
     "exception": false,
     "start_time": "2024-07-05T09:10:59.378142",
     "status": "completed"
    },
    "tags": []
   },
   "outputs": [],
   "source": []
  }
 ],
 "metadata": {
  "kaggle": {
   "accelerator": "nvidiaTeslaT4",
   "dataSources": [
    {
     "databundleVersionId": 861823,
     "sourceId": 3004,
     "sourceType": "competition"
    },
    {
     "datasetId": 27352,
     "sourceId": 34877,
     "sourceType": "datasetVersion"
    }
   ],
   "dockerImageVersionId": 30476,
   "isGpuEnabled": true,
   "isInternetEnabled": true,
   "language": "python",
   "sourceType": "notebook"
  },
  "kernelspec": {
   "display_name": "Python 3",
   "language": "python",
   "name": "python3"
  },
  "language_info": {
   "codemirror_mode": {
    "name": "ipython",
    "version": 3
   },
   "file_extension": ".py",
   "mimetype": "text/x-python",
   "name": "python",
   "nbconvert_exporter": "python",
   "pygments_lexer": "ipython3",
   "version": "3.10.10"
  },
  "papermill": {
   "default_parameters": {},
   "duration": 166.79871,
   "end_time": "2024-07-05T09:11:01.912579",
   "environment_variables": {},
   "exception": null,
   "input_path": "__notebook__.ipynb",
   "output_path": "__notebook__.ipynb",
   "parameters": {},
   "start_time": "2024-07-05T09:08:15.113869",
   "version": "2.4.0"
  },
  "widgets": {
   "application/vnd.jupyter.widget-state+json": {
    "state": {
     "069cc2b7e71d4f01ac230c7e798bbb8d": {
      "model_module": "@jupyter-widgets/base",
      "model_module_version": "1.2.0",
      "model_name": "LayoutModel",
      "state": {
       "_model_module": "@jupyter-widgets/base",
       "_model_module_version": "1.2.0",
       "_model_name": "LayoutModel",
       "_view_count": null,
       "_view_module": "@jupyter-widgets/base",
       "_view_module_version": "1.2.0",
       "_view_name": "LayoutView",
       "align_content": null,
       "align_items": null,
       "align_self": null,
       "border": null,
       "bottom": null,
       "display": null,
       "flex": null,
       "flex_flow": null,
       "grid_area": null,
       "grid_auto_columns": null,
       "grid_auto_flow": null,
       "grid_auto_rows": null,
       "grid_column": null,
       "grid_gap": null,
       "grid_row": null,
       "grid_template_areas": null,
       "grid_template_columns": null,
       "grid_template_rows": null,
       "height": null,
       "justify_content": null,
       "justify_items": null,
       "left": null,
       "margin": null,
       "max_height": null,
       "max_width": null,
       "min_height": null,
       "min_width": null,
       "object_fit": null,
       "object_position": null,
       "order": null,
       "overflow": null,
       "overflow_x": null,
       "overflow_y": null,
       "padding": null,
       "right": null,
       "top": null,
       "visibility": null,
       "width": null
      }
     },
     "08a2cc5839b041989b661a3a1e1f7ab1": {
      "model_module": "@jupyter-widgets/base",
      "model_module_version": "1.2.0",
      "model_name": "LayoutModel",
      "state": {
       "_model_module": "@jupyter-widgets/base",
       "_model_module_version": "1.2.0",
       "_model_name": "LayoutModel",
       "_view_count": null,
       "_view_module": "@jupyter-widgets/base",
       "_view_module_version": "1.2.0",
       "_view_name": "LayoutView",
       "align_content": null,
       "align_items": null,
       "align_self": null,
       "border": null,
       "bottom": null,
       "display": null,
       "flex": null,
       "flex_flow": null,
       "grid_area": null,
       "grid_auto_columns": null,
       "grid_auto_flow": null,
       "grid_auto_rows": null,
       "grid_column": null,
       "grid_gap": null,
       "grid_row": null,
       "grid_template_areas": null,
       "grid_template_columns": null,
       "grid_template_rows": null,
       "height": null,
       "justify_content": null,
       "justify_items": null,
       "left": null,
       "margin": null,
       "max_height": null,
       "max_width": null,
       "min_height": null,
       "min_width": null,
       "object_fit": null,
       "object_position": null,
       "order": null,
       "overflow": null,
       "overflow_x": null,
       "overflow_y": null,
       "padding": null,
       "right": null,
       "top": null,
       "visibility": null,
       "width": null
      }
     },
     "19cc3c6dfbb84720ba08a552e709fe8e": {
      "model_module": "@jupyter-widgets/base",
      "model_module_version": "1.2.0",
      "model_name": "LayoutModel",
      "state": {
       "_model_module": "@jupyter-widgets/base",
       "_model_module_version": "1.2.0",
       "_model_name": "LayoutModel",
       "_view_count": null,
       "_view_module": "@jupyter-widgets/base",
       "_view_module_version": "1.2.0",
       "_view_name": "LayoutView",
       "align_content": null,
       "align_items": null,
       "align_self": null,
       "border": null,
       "bottom": null,
       "display": null,
       "flex": null,
       "flex_flow": null,
       "grid_area": null,
       "grid_auto_columns": null,
       "grid_auto_flow": null,
       "grid_auto_rows": null,
       "grid_column": null,
       "grid_gap": null,
       "grid_row": null,
       "grid_template_areas": null,
       "grid_template_columns": null,
       "grid_template_rows": null,
       "height": null,
       "justify_content": null,
       "justify_items": null,
       "left": null,
       "margin": null,
       "max_height": null,
       "max_width": null,
       "min_height": null,
       "min_width": null,
       "object_fit": null,
       "object_position": null,
       "order": null,
       "overflow": null,
       "overflow_x": null,
       "overflow_y": null,
       "padding": null,
       "right": null,
       "top": null,
       "visibility": null,
       "width": null
      }
     },
     "22e6f66efc794e0d80c0ef2ab129501c": {
      "model_module": "@jupyter-widgets/controls",
      "model_module_version": "1.5.0",
      "model_name": "FloatProgressModel",
      "state": {
       "_dom_classes": [],
       "_model_module": "@jupyter-widgets/controls",
       "_model_module_version": "1.5.0",
       "_model_name": "FloatProgressModel",
       "_view_count": null,
       "_view_module": "@jupyter-widgets/controls",
       "_view_module_version": "1.5.0",
       "_view_name": "ProgressView",
       "bar_style": "success",
       "description": "",
       "description_tooltip": null,
       "layout": "IPY_MODEL_08a2cc5839b041989b661a3a1e1f7ab1",
       "max": 15.0,
       "min": 0.0,
       "orientation": "horizontal",
       "style": "IPY_MODEL_e838b818b90148edbd813141fc8e74cb",
       "value": 15.0
      }
     },
     "2e513512c4374786afcb3defeedfedc4": {
      "model_module": "@jupyter-widgets/controls",
      "model_module_version": "1.5.0",
      "model_name": "HBoxModel",
      "state": {
       "_dom_classes": [],
       "_model_module": "@jupyter-widgets/controls",
       "_model_module_version": "1.5.0",
       "_model_name": "HBoxModel",
       "_view_count": null,
       "_view_module": "@jupyter-widgets/controls",
       "_view_module_version": "1.5.0",
       "_view_name": "HBoxView",
       "box_style": "",
       "children": [
        "IPY_MODEL_beeb337bcfad4ec8bb250b39ad3d6e6d",
        "IPY_MODEL_22e6f66efc794e0d80c0ef2ab129501c",
        "IPY_MODEL_c55ae4af93c4418d8088c38f3f7ec4f9"
       ],
       "layout": "IPY_MODEL_758416e227c441d498228edc96dba46c"
      }
     },
     "318ec7052b13403d875169ce786515d9": {
      "model_module": "@jupyter-widgets/controls",
      "model_module_version": "1.5.0",
      "model_name": "HTMLModel",
      "state": {
       "_dom_classes": [],
       "_model_module": "@jupyter-widgets/controls",
       "_model_module_version": "1.5.0",
       "_model_name": "HTMLModel",
       "_view_count": null,
       "_view_module": "@jupyter-widgets/controls",
       "_view_module_version": "1.5.0",
       "_view_name": "HTMLView",
       "description": "",
       "description_tooltip": null,
       "layout": "IPY_MODEL_a715928b21754697b39049ebc87fc20b",
       "placeholder": "​",
       "style": "IPY_MODEL_721e47b9b9cf4070be62f6887f132a1b",
       "value": " 1/1 [00:00&lt;00:00,  1.04it/s]"
      }
     },
     "3458258d9c7846e9a1a912dd07047d65": {
      "model_module": "@jupyter-widgets/controls",
      "model_module_version": "1.5.0",
      "model_name": "ProgressStyleModel",
      "state": {
       "_model_module": "@jupyter-widgets/controls",
       "_model_module_version": "1.5.0",
       "_model_name": "ProgressStyleModel",
       "_view_count": null,
       "_view_module": "@jupyter-widgets/base",
       "_view_module_version": "1.2.0",
       "_view_name": "StyleView",
       "bar_color": null,
       "description_width": ""
      }
     },
     "3db3e3aff3d84138bd5b78fd06f7b7f8": {
      "model_module": "@jupyter-widgets/controls",
      "model_module_version": "1.5.0",
      "model_name": "DescriptionStyleModel",
      "state": {
       "_model_module": "@jupyter-widgets/controls",
       "_model_module_version": "1.5.0",
       "_model_name": "DescriptionStyleModel",
       "_view_count": null,
       "_view_module": "@jupyter-widgets/base",
       "_view_module_version": "1.2.0",
       "_view_name": "StyleView",
       "description_width": ""
      }
     },
     "57db505ab3f049f98d9be40f31c2288e": {
      "model_module": "@jupyter-widgets/controls",
      "model_module_version": "1.5.0",
      "model_name": "DescriptionStyleModel",
      "state": {
       "_model_module": "@jupyter-widgets/controls",
       "_model_module_version": "1.5.0",
       "_model_name": "DescriptionStyleModel",
       "_view_count": null,
       "_view_module": "@jupyter-widgets/base",
       "_view_module_version": "1.2.0",
       "_view_name": "StyleView",
       "description_width": ""
      }
     },
     "5f29f8c09bd3452aa8221b6dd3ed7897": {
      "model_module": "@jupyter-widgets/base",
      "model_module_version": "1.2.0",
      "model_name": "LayoutModel",
      "state": {
       "_model_module": "@jupyter-widgets/base",
       "_model_module_version": "1.2.0",
       "_model_name": "LayoutModel",
       "_view_count": null,
       "_view_module": "@jupyter-widgets/base",
       "_view_module_version": "1.2.0",
       "_view_name": "LayoutView",
       "align_content": null,
       "align_items": null,
       "align_self": null,
       "border": null,
       "bottom": null,
       "display": null,
       "flex": null,
       "flex_flow": null,
       "grid_area": null,
       "grid_auto_columns": null,
       "grid_auto_flow": null,
       "grid_auto_rows": null,
       "grid_column": null,
       "grid_gap": null,
       "grid_row": null,
       "grid_template_areas": null,
       "grid_template_columns": null,
       "grid_template_rows": null,
       "height": null,
       "justify_content": null,
       "justify_items": null,
       "left": null,
       "margin": null,
       "max_height": null,
       "max_width": null,
       "min_height": null,
       "min_width": null,
       "object_fit": null,
       "object_position": null,
       "order": null,
       "overflow": null,
       "overflow_x": null,
       "overflow_y": null,
       "padding": null,
       "right": null,
       "top": null,
       "visibility": null,
       "width": null
      }
     },
     "721e47b9b9cf4070be62f6887f132a1b": {
      "model_module": "@jupyter-widgets/controls",
      "model_module_version": "1.5.0",
      "model_name": "DescriptionStyleModel",
      "state": {
       "_model_module": "@jupyter-widgets/controls",
       "_model_module_version": "1.5.0",
       "_model_name": "DescriptionStyleModel",
       "_view_count": null,
       "_view_module": "@jupyter-widgets/base",
       "_view_module_version": "1.2.0",
       "_view_name": "StyleView",
       "description_width": ""
      }
     },
     "758416e227c441d498228edc96dba46c": {
      "model_module": "@jupyter-widgets/base",
      "model_module_version": "1.2.0",
      "model_name": "LayoutModel",
      "state": {
       "_model_module": "@jupyter-widgets/base",
       "_model_module_version": "1.2.0",
       "_model_name": "LayoutModel",
       "_view_count": null,
       "_view_module": "@jupyter-widgets/base",
       "_view_module_version": "1.2.0",
       "_view_name": "LayoutView",
       "align_content": null,
       "align_items": null,
       "align_self": null,
       "border": null,
       "bottom": null,
       "display": null,
       "flex": null,
       "flex_flow": null,
       "grid_area": null,
       "grid_auto_columns": null,
       "grid_auto_flow": null,
       "grid_auto_rows": null,
       "grid_column": null,
       "grid_gap": null,
       "grid_row": null,
       "grid_template_areas": null,
       "grid_template_columns": null,
       "grid_template_rows": null,
       "height": null,
       "justify_content": null,
       "justify_items": null,
       "left": null,
       "margin": null,
       "max_height": null,
       "max_width": null,
       "min_height": null,
       "min_width": null,
       "object_fit": null,
       "object_position": null,
       "order": null,
       "overflow": null,
       "overflow_x": null,
       "overflow_y": null,
       "padding": null,
       "right": null,
       "top": null,
       "visibility": null,
       "width": null
      }
     },
     "7681fb47168a451893bc9481c628f69b": {
      "model_module": "@jupyter-widgets/base",
      "model_module_version": "1.2.0",
      "model_name": "LayoutModel",
      "state": {
       "_model_module": "@jupyter-widgets/base",
       "_model_module_version": "1.2.0",
       "_model_name": "LayoutModel",
       "_view_count": null,
       "_view_module": "@jupyter-widgets/base",
       "_view_module_version": "1.2.0",
       "_view_name": "LayoutView",
       "align_content": null,
       "align_items": null,
       "align_self": null,
       "border": null,
       "bottom": null,
       "display": null,
       "flex": null,
       "flex_flow": null,
       "grid_area": null,
       "grid_auto_columns": null,
       "grid_auto_flow": null,
       "grid_auto_rows": null,
       "grid_column": null,
       "grid_gap": null,
       "grid_row": null,
       "grid_template_areas": null,
       "grid_template_columns": null,
       "grid_template_rows": null,
       "height": null,
       "justify_content": null,
       "justify_items": null,
       "left": null,
       "margin": null,
       "max_height": null,
       "max_width": null,
       "min_height": null,
       "min_width": null,
       "object_fit": null,
       "object_position": null,
       "order": null,
       "overflow": null,
       "overflow_x": null,
       "overflow_y": null,
       "padding": null,
       "right": null,
       "top": null,
       "visibility": null,
       "width": null
      }
     },
     "851c6ef706fe438ca346875b3aa2e06b": {
      "model_module": "@jupyter-widgets/controls",
      "model_module_version": "1.5.0",
      "model_name": "HBoxModel",
      "state": {
       "_dom_classes": [],
       "_model_module": "@jupyter-widgets/controls",
       "_model_module_version": "1.5.0",
       "_model_name": "HBoxModel",
       "_view_count": null,
       "_view_module": "@jupyter-widgets/controls",
       "_view_module_version": "1.5.0",
       "_view_name": "HBoxView",
       "box_style": "",
       "children": [
        "IPY_MODEL_fa50a2fa22754bd893de57b7d151d0d5",
        "IPY_MODEL_c4224d3f091949bc85052a0dd2d48f5d",
        "IPY_MODEL_318ec7052b13403d875169ce786515d9"
       ],
       "layout": "IPY_MODEL_069cc2b7e71d4f01ac230c7e798bbb8d"
      }
     },
     "a715928b21754697b39049ebc87fc20b": {
      "model_module": "@jupyter-widgets/base",
      "model_module_version": "1.2.0",
      "model_name": "LayoutModel",
      "state": {
       "_model_module": "@jupyter-widgets/base",
       "_model_module_version": "1.2.0",
       "_model_name": "LayoutModel",
       "_view_count": null,
       "_view_module": "@jupyter-widgets/base",
       "_view_module_version": "1.2.0",
       "_view_name": "LayoutView",
       "align_content": null,
       "align_items": null,
       "align_self": null,
       "border": null,
       "bottom": null,
       "display": null,
       "flex": null,
       "flex_flow": null,
       "grid_area": null,
       "grid_auto_columns": null,
       "grid_auto_flow": null,
       "grid_auto_rows": null,
       "grid_column": null,
       "grid_gap": null,
       "grid_row": null,
       "grid_template_areas": null,
       "grid_template_columns": null,
       "grid_template_rows": null,
       "height": null,
       "justify_content": null,
       "justify_items": null,
       "left": null,
       "margin": null,
       "max_height": null,
       "max_width": null,
       "min_height": null,
       "min_width": null,
       "object_fit": null,
       "object_position": null,
       "order": null,
       "overflow": null,
       "overflow_x": null,
       "overflow_y": null,
       "padding": null,
       "right": null,
       "top": null,
       "visibility": null,
       "width": null
      }
     },
     "bed672df61e344c58c593496da84af4b": {
      "model_module": "@jupyter-widgets/controls",
      "model_module_version": "1.5.0",
      "model_name": "DescriptionStyleModel",
      "state": {
       "_model_module": "@jupyter-widgets/controls",
       "_model_module_version": "1.5.0",
       "_model_name": "DescriptionStyleModel",
       "_view_count": null,
       "_view_module": "@jupyter-widgets/base",
       "_view_module_version": "1.2.0",
       "_view_name": "StyleView",
       "description_width": ""
      }
     },
     "beeb337bcfad4ec8bb250b39ad3d6e6d": {
      "model_module": "@jupyter-widgets/controls",
      "model_module_version": "1.5.0",
      "model_name": "HTMLModel",
      "state": {
       "_dom_classes": [],
       "_model_module": "@jupyter-widgets/controls",
       "_model_module_version": "1.5.0",
       "_model_name": "HTMLModel",
       "_view_count": null,
       "_view_module": "@jupyter-widgets/controls",
       "_view_module_version": "1.5.0",
       "_view_name": "HTMLView",
       "description": "",
       "description_tooltip": null,
       "layout": "IPY_MODEL_7681fb47168a451893bc9481c628f69b",
       "placeholder": "​",
       "style": "IPY_MODEL_57db505ab3f049f98d9be40f31c2288e",
       "value": "Epochs: 100%"
      }
     },
     "c2b5a5bea3274eeb911acb03f78fd7d8": {
      "model_module": "@jupyter-widgets/base",
      "model_module_version": "1.2.0",
      "model_name": "LayoutModel",
      "state": {
       "_model_module": "@jupyter-widgets/base",
       "_model_module_version": "1.2.0",
       "_model_name": "LayoutModel",
       "_view_count": null,
       "_view_module": "@jupyter-widgets/base",
       "_view_module_version": "1.2.0",
       "_view_name": "LayoutView",
       "align_content": null,
       "align_items": null,
       "align_self": null,
       "border": null,
       "bottom": null,
       "display": null,
       "flex": null,
       "flex_flow": null,
       "grid_area": null,
       "grid_auto_columns": null,
       "grid_auto_flow": null,
       "grid_auto_rows": null,
       "grid_column": null,
       "grid_gap": null,
       "grid_row": null,
       "grid_template_areas": null,
       "grid_template_columns": null,
       "grid_template_rows": null,
       "height": null,
       "justify_content": null,
       "justify_items": null,
       "left": null,
       "margin": null,
       "max_height": null,
       "max_width": null,
       "min_height": null,
       "min_width": null,
       "object_fit": null,
       "object_position": null,
       "order": null,
       "overflow": null,
       "overflow_x": null,
       "overflow_y": null,
       "padding": null,
       "right": null,
       "top": null,
       "visibility": null,
       "width": null
      }
     },
     "c4224d3f091949bc85052a0dd2d48f5d": {
      "model_module": "@jupyter-widgets/controls",
      "model_module_version": "1.5.0",
      "model_name": "FloatProgressModel",
      "state": {
       "_dom_classes": [],
       "_model_module": "@jupyter-widgets/controls",
       "_model_module_version": "1.5.0",
       "_model_name": "FloatProgressModel",
       "_view_count": null,
       "_view_module": "@jupyter-widgets/controls",
       "_view_module_version": "1.5.0",
       "_view_name": "ProgressView",
       "bar_style": "success",
       "description": "",
       "description_tooltip": null,
       "layout": "IPY_MODEL_19cc3c6dfbb84720ba08a552e709fe8e",
       "max": 1.0,
       "min": 0.0,
       "orientation": "horizontal",
       "style": "IPY_MODEL_3458258d9c7846e9a1a912dd07047d65",
       "value": 1.0
      }
     },
     "c55ae4af93c4418d8088c38f3f7ec4f9": {
      "model_module": "@jupyter-widgets/controls",
      "model_module_version": "1.5.0",
      "model_name": "HTMLModel",
      "state": {
       "_dom_classes": [],
       "_model_module": "@jupyter-widgets/controls",
       "_model_module_version": "1.5.0",
       "_model_name": "HTMLModel",
       "_view_count": null,
       "_view_module": "@jupyter-widgets/controls",
       "_view_module_version": "1.5.0",
       "_view_name": "HTMLView",
       "description": "",
       "description_tooltip": null,
       "layout": "IPY_MODEL_c2b5a5bea3274eeb911acb03f78fd7d8",
       "placeholder": "​",
       "style": "IPY_MODEL_3db3e3aff3d84138bd5b78fd06f7b7f8",
       "value": " 15/15 [02:00&lt;00:00,  7.96s/it]"
      }
     },
     "e838b818b90148edbd813141fc8e74cb": {
      "model_module": "@jupyter-widgets/controls",
      "model_module_version": "1.5.0",
      "model_name": "ProgressStyleModel",
      "state": {
       "_model_module": "@jupyter-widgets/controls",
       "_model_module_version": "1.5.0",
       "_model_name": "ProgressStyleModel",
       "_view_count": null,
       "_view_module": "@jupyter-widgets/base",
       "_view_module_version": "1.2.0",
       "_view_name": "StyleView",
       "bar_color": null,
       "description_width": ""
      }
     },
     "fa50a2fa22754bd893de57b7d151d0d5": {
      "model_module": "@jupyter-widgets/controls",
      "model_module_version": "1.5.0",
      "model_name": "HTMLModel",
      "state": {
       "_dom_classes": [],
       "_model_module": "@jupyter-widgets/controls",
       "_model_module_version": "1.5.0",
       "_model_name": "HTMLModel",
       "_view_count": null,
       "_view_module": "@jupyter-widgets/controls",
       "_view_module_version": "1.5.0",
       "_view_name": "HTMLView",
       "description": "",
       "description_tooltip": null,
       "layout": "IPY_MODEL_5f29f8c09bd3452aa8221b6dd3ed7897",
       "placeholder": "​",
       "style": "IPY_MODEL_bed672df61e344c58c593496da84af4b",
       "value": "100%"
      }
     }
    },
    "version_major": 2,
    "version_minor": 0
   }
  }
 },
 "nbformat": 4,
 "nbformat_minor": 5
}
